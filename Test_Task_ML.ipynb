{
 "cells": [
  {
   "cell_type": "markdown",
   "metadata": {},
   "source": [
    "### Importing necesarry libraries"
   ]
  },
  {
   "cell_type": "code",
   "execution_count": 1,
   "metadata": {},
   "outputs": [],
   "source": [
    "import pandas as pd\n",
    "import numpy as np\n",
    "import matplotlib.pyplot as plt\n",
    "import seaborn as sns\n",
    "from sklearn.metrics import classification_report, confusion_matrix \n",
    "from sklearn.metrics import accuracy_score\n",
    "from sklearn.model_selection import train_test_split"
   ]
  },
  {
   "cell_type": "markdown",
   "metadata": {},
   "source": [
    "### Loading Data and looking at a random sample"
   ]
  },
  {
   "cell_type": "code",
   "execution_count": 2,
   "metadata": {},
   "outputs": [
    {
     "name": "stdout",
     "output_type": "stream",
     "text": [
      "Train data shape : (795, 60)\n",
      "Test data shape : (91, 59)\n"
     ]
    },
    {
     "data": {
      "text/html": [
       "<div>\n",
       "<style scoped>\n",
       "    .dataframe tbody tr th:only-of-type {\n",
       "        vertical-align: middle;\n",
       "    }\n",
       "\n",
       "    .dataframe tbody tr th {\n",
       "        vertical-align: top;\n",
       "    }\n",
       "\n",
       "    .dataframe thead th {\n",
       "        text-align: right;\n",
       "    }\n",
       "</style>\n",
       "<table border=\"1\" class=\"dataframe\">\n",
       "  <thead>\n",
       "    <tr style=\"text-align: right;\">\n",
       "      <th></th>\n",
       "      <th>feature_0</th>\n",
       "      <th>feature_1</th>\n",
       "      <th>feature_2</th>\n",
       "      <th>feature_3</th>\n",
       "      <th>feature_4</th>\n",
       "      <th>feature_5</th>\n",
       "      <th>feature_6</th>\n",
       "      <th>feature_7</th>\n",
       "      <th>feature_8</th>\n",
       "      <th>feature_9</th>\n",
       "      <th>...</th>\n",
       "      <th>feature_50</th>\n",
       "      <th>feature_51</th>\n",
       "      <th>feature_52</th>\n",
       "      <th>feature_53</th>\n",
       "      <th>feature_54</th>\n",
       "      <th>feature_55</th>\n",
       "      <th>feature_56</th>\n",
       "      <th>feature_57</th>\n",
       "      <th>feature_58</th>\n",
       "      <th>target</th>\n",
       "    </tr>\n",
       "  </thead>\n",
       "  <tbody>\n",
       "    <tr>\n",
       "      <th>777</th>\n",
       "      <td>0.00</td>\n",
       "      <td>0.00</td>\n",
       "      <td>0.00</td>\n",
       "      <td>0.00</td>\n",
       "      <td>0.000</td>\n",
       "      <td>0.0</td>\n",
       "      <td>0.00</td>\n",
       "      <td>0.00</td>\n",
       "      <td>0.00</td>\n",
       "      <td>0.0</td>\n",
       "      <td>...</td>\n",
       "      <td>0.000</td>\n",
       "      <td>0.00</td>\n",
       "      <td>0.00</td>\n",
       "      <td>-0.815224</td>\n",
       "      <td>3</td>\n",
       "      <td>0.00</td>\n",
       "      <td>0.0</td>\n",
       "      <td>0.00</td>\n",
       "      <td>0.00</td>\n",
       "      <td>0</td>\n",
       "    </tr>\n",
       "    <tr>\n",
       "      <th>704</th>\n",
       "      <td>1.92</td>\n",
       "      <td>0.00</td>\n",
       "      <td>0.00</td>\n",
       "      <td>0.64</td>\n",
       "      <td>0.000</td>\n",
       "      <td>0.0</td>\n",
       "      <td>1.28</td>\n",
       "      <td>0.64</td>\n",
       "      <td>0.00</td>\n",
       "      <td>0.0</td>\n",
       "      <td>...</td>\n",
       "      <td>0.000</td>\n",
       "      <td>0.64</td>\n",
       "      <td>0.00</td>\n",
       "      <td>4.185061</td>\n",
       "      <td>8</td>\n",
       "      <td>0.00</td>\n",
       "      <td>0.0</td>\n",
       "      <td>2.56</td>\n",
       "      <td>0.00</td>\n",
       "      <td>0</td>\n",
       "    </tr>\n",
       "    <tr>\n",
       "      <th>143</th>\n",
       "      <td>0.00</td>\n",
       "      <td>0.00</td>\n",
       "      <td>0.76</td>\n",
       "      <td>0.00</td>\n",
       "      <td>289.000</td>\n",
       "      <td>0.0</td>\n",
       "      <td>0.00</td>\n",
       "      <td>0.30</td>\n",
       "      <td>0.15</td>\n",
       "      <td>0.0</td>\n",
       "      <td>...</td>\n",
       "      <td>57.000</td>\n",
       "      <td>0.00</td>\n",
       "      <td>0.00</td>\n",
       "      <td>-13.913914</td>\n",
       "      <td>84</td>\n",
       "      <td>0.00</td>\n",
       "      <td>0.0</td>\n",
       "      <td>0.61</td>\n",
       "      <td>1.23</td>\n",
       "      <td>1</td>\n",
       "    </tr>\n",
       "    <tr>\n",
       "      <th>564</th>\n",
       "      <td>0.00</td>\n",
       "      <td>0.00</td>\n",
       "      <td>0.00</td>\n",
       "      <td>0.00</td>\n",
       "      <td>0.000</td>\n",
       "      <td>0.0</td>\n",
       "      <td>0.00</td>\n",
       "      <td>3.57</td>\n",
       "      <td>0.00</td>\n",
       "      <td>0.0</td>\n",
       "      <td>...</td>\n",
       "      <td>0.000</td>\n",
       "      <td>1.78</td>\n",
       "      <td>0.00</td>\n",
       "      <td>14.600132</td>\n",
       "      <td>14</td>\n",
       "      <td>0.00</td>\n",
       "      <td>0.0</td>\n",
       "      <td>0.00</td>\n",
       "      <td>0.00</td>\n",
       "      <td>0</td>\n",
       "    </tr>\n",
       "    <tr>\n",
       "      <th>283</th>\n",
       "      <td>0.00</td>\n",
       "      <td>0.00</td>\n",
       "      <td>0.39</td>\n",
       "      <td>0.00</td>\n",
       "      <td>265.000</td>\n",
       "      <td>0.0</td>\n",
       "      <td>0.53</td>\n",
       "      <td>0.73</td>\n",
       "      <td>0.53</td>\n",
       "      <td>0.0</td>\n",
       "      <td>...</td>\n",
       "      <td>23.000</td>\n",
       "      <td>0.00</td>\n",
       "      <td>0.00</td>\n",
       "      <td>2.261751</td>\n",
       "      <td>272</td>\n",
       "      <td>0.00</td>\n",
       "      <td>0.0</td>\n",
       "      <td>1.12</td>\n",
       "      <td>0.26</td>\n",
       "      <td>1</td>\n",
       "    </tr>\n",
       "    <tr>\n",
       "      <th>73</th>\n",
       "      <td>0.00</td>\n",
       "      <td>0.00</td>\n",
       "      <td>0.11</td>\n",
       "      <td>0.00</td>\n",
       "      <td>134.000</td>\n",
       "      <td>0.0</td>\n",
       "      <td>1.92</td>\n",
       "      <td>1.81</td>\n",
       "      <td>0.45</td>\n",
       "      <td>0.0</td>\n",
       "      <td>...</td>\n",
       "      <td>57.000</td>\n",
       "      <td>0.00</td>\n",
       "      <td>0.00</td>\n",
       "      <td>-2.953061</td>\n",
       "      <td>94</td>\n",
       "      <td>0.00</td>\n",
       "      <td>0.0</td>\n",
       "      <td>0.45</td>\n",
       "      <td>0.22</td>\n",
       "      <td>1</td>\n",
       "    </tr>\n",
       "    <tr>\n",
       "      <th>787</th>\n",
       "      <td>0.00</td>\n",
       "      <td>9.83</td>\n",
       "      <td>0.00</td>\n",
       "      <td>0.00</td>\n",
       "      <td>0.000</td>\n",
       "      <td>0.0</td>\n",
       "      <td>0.00</td>\n",
       "      <td>0.00</td>\n",
       "      <td>0.00</td>\n",
       "      <td>0.0</td>\n",
       "      <td>...</td>\n",
       "      <td>0.000</td>\n",
       "      <td>0.00</td>\n",
       "      <td>0.00</td>\n",
       "      <td>0.275399</td>\n",
       "      <td>43</td>\n",
       "      <td>0.00</td>\n",
       "      <td>0.0</td>\n",
       "      <td>0.00</td>\n",
       "      <td>0.00</td>\n",
       "      <td>0</td>\n",
       "    </tr>\n",
       "    <tr>\n",
       "      <th>241</th>\n",
       "      <td>0.00</td>\n",
       "      <td>0.00</td>\n",
       "      <td>1.00</td>\n",
       "      <td>0.00</td>\n",
       "      <td>0.206</td>\n",
       "      <td>0.0</td>\n",
       "      <td>1.72</td>\n",
       "      <td>0.57</td>\n",
       "      <td>0.00</td>\n",
       "      <td>0.0</td>\n",
       "      <td>...</td>\n",
       "      <td>64.000</td>\n",
       "      <td>0.00</td>\n",
       "      <td>0.00</td>\n",
       "      <td>-12.373567</td>\n",
       "      <td>10</td>\n",
       "      <td>0.00</td>\n",
       "      <td>0.0</td>\n",
       "      <td>0.14</td>\n",
       "      <td>0.07</td>\n",
       "      <td>1</td>\n",
       "    </tr>\n",
       "    <tr>\n",
       "      <th>626</th>\n",
       "      <td>0.00</td>\n",
       "      <td>0.00</td>\n",
       "      <td>0.00</td>\n",
       "      <td>0.00</td>\n",
       "      <td>0.000</td>\n",
       "      <td>0.0</td>\n",
       "      <td>0.00</td>\n",
       "      <td>0.00</td>\n",
       "      <td>2.07</td>\n",
       "      <td>0.0</td>\n",
       "      <td>...</td>\n",
       "      <td>0.144</td>\n",
       "      <td>0.00</td>\n",
       "      <td>0.00</td>\n",
       "      <td>24.358820</td>\n",
       "      <td>11</td>\n",
       "      <td>0.00</td>\n",
       "      <td>0.0</td>\n",
       "      <td>0.00</td>\n",
       "      <td>0.00</td>\n",
       "      <td>0</td>\n",
       "    </tr>\n",
       "    <tr>\n",
       "      <th>494</th>\n",
       "      <td>0.00</td>\n",
       "      <td>0.00</td>\n",
       "      <td>0.00</td>\n",
       "      <td>0.74</td>\n",
       "      <td>0.160</td>\n",
       "      <td>0.0</td>\n",
       "      <td>0.24</td>\n",
       "      <td>0.00</td>\n",
       "      <td>0.24</td>\n",
       "      <td>0.0</td>\n",
       "      <td>...</td>\n",
       "      <td>0.000</td>\n",
       "      <td>0.49</td>\n",
       "      <td>0.00</td>\n",
       "      <td>0.805366</td>\n",
       "      <td>235</td>\n",
       "      <td>0.00</td>\n",
       "      <td>0.0</td>\n",
       "      <td>0.49</td>\n",
       "      <td>0.00</td>\n",
       "      <td>0</td>\n",
       "    </tr>\n",
       "    <tr>\n",
       "      <th>653</th>\n",
       "      <td>0.00</td>\n",
       "      <td>0.00</td>\n",
       "      <td>0.00</td>\n",
       "      <td>0.00</td>\n",
       "      <td>0.000</td>\n",
       "      <td>0.0</td>\n",
       "      <td>0.00</td>\n",
       "      <td>0.00</td>\n",
       "      <td>0.00</td>\n",
       "      <td>0.0</td>\n",
       "      <td>...</td>\n",
       "      <td>0.000</td>\n",
       "      <td>0.00</td>\n",
       "      <td>0.00</td>\n",
       "      <td>10.507841</td>\n",
       "      <td>3</td>\n",
       "      <td>0.00</td>\n",
       "      <td>0.0</td>\n",
       "      <td>0.00</td>\n",
       "      <td>0.00</td>\n",
       "      <td>0</td>\n",
       "    </tr>\n",
       "    <tr>\n",
       "      <th>165</th>\n",
       "      <td>0.00</td>\n",
       "      <td>0.00</td>\n",
       "      <td>0.06</td>\n",
       "      <td>0.00</td>\n",
       "      <td>92.000</td>\n",
       "      <td>0.0</td>\n",
       "      <td>0.61</td>\n",
       "      <td>0.75</td>\n",
       "      <td>0.00</td>\n",
       "      <td>0.0</td>\n",
       "      <td>...</td>\n",
       "      <td>57.000</td>\n",
       "      <td>0.00</td>\n",
       "      <td>0.00</td>\n",
       "      <td>-1.628071</td>\n",
       "      <td>104</td>\n",
       "      <td>0.00</td>\n",
       "      <td>0.0</td>\n",
       "      <td>0.00</td>\n",
       "      <td>0.00</td>\n",
       "      <td>1</td>\n",
       "    </tr>\n",
       "    <tr>\n",
       "      <th>701</th>\n",
       "      <td>0.00</td>\n",
       "      <td>0.00</td>\n",
       "      <td>0.00</td>\n",
       "      <td>0.00</td>\n",
       "      <td>0.000</td>\n",
       "      <td>0.0</td>\n",
       "      <td>0.00</td>\n",
       "      <td>0.00</td>\n",
       "      <td>0.00</td>\n",
       "      <td>0.0</td>\n",
       "      <td>...</td>\n",
       "      <td>0.000</td>\n",
       "      <td>3.50</td>\n",
       "      <td>0.00</td>\n",
       "      <td>6.009550</td>\n",
       "      <td>11</td>\n",
       "      <td>0.00</td>\n",
       "      <td>0.0</td>\n",
       "      <td>0.00</td>\n",
       "      <td>0.00</td>\n",
       "      <td>0</td>\n",
       "    </tr>\n",
       "    <tr>\n",
       "      <th>234</th>\n",
       "      <td>0.17</td>\n",
       "      <td>0.00</td>\n",
       "      <td>0.17</td>\n",
       "      <td>0.00</td>\n",
       "      <td>0.030</td>\n",
       "      <td>0.0</td>\n",
       "      <td>0.00</td>\n",
       "      <td>0.00</td>\n",
       "      <td>0.17</td>\n",
       "      <td>0.0</td>\n",
       "      <td>...</td>\n",
       "      <td>0.216</td>\n",
       "      <td>3.37</td>\n",
       "      <td>0.00</td>\n",
       "      <td>3.195651</td>\n",
       "      <td>85</td>\n",
       "      <td>0.17</td>\n",
       "      <td>0.0</td>\n",
       "      <td>0.17</td>\n",
       "      <td>0.00</td>\n",
       "      <td>1</td>\n",
       "    </tr>\n",
       "    <tr>\n",
       "      <th>434</th>\n",
       "      <td>1.28</td>\n",
       "      <td>0.00</td>\n",
       "      <td>0.00</td>\n",
       "      <td>0.00</td>\n",
       "      <td>0.000</td>\n",
       "      <td>0.0</td>\n",
       "      <td>1.28</td>\n",
       "      <td>0.00</td>\n",
       "      <td>0.00</td>\n",
       "      <td>0.0</td>\n",
       "      <td>...</td>\n",
       "      <td>0.398</td>\n",
       "      <td>2.56</td>\n",
       "      <td>1.28</td>\n",
       "      <td>18.426722</td>\n",
       "      <td>11</td>\n",
       "      <td>0.00</td>\n",
       "      <td>0.0</td>\n",
       "      <td>0.00</td>\n",
       "      <td>0.00</td>\n",
       "      <td>0</td>\n",
       "    </tr>\n",
       "  </tbody>\n",
       "</table>\n",
       "<p>15 rows × 60 columns</p>\n",
       "</div>"
      ],
      "text/plain": [
       "     feature_0  feature_1  feature_2  feature_3  feature_4  feature_5  \\\n",
       "777       0.00       0.00       0.00       0.00      0.000        0.0   \n",
       "704       1.92       0.00       0.00       0.64      0.000        0.0   \n",
       "143       0.00       0.00       0.76       0.00    289.000        0.0   \n",
       "564       0.00       0.00       0.00       0.00      0.000        0.0   \n",
       "283       0.00       0.00       0.39       0.00    265.000        0.0   \n",
       "73        0.00       0.00       0.11       0.00    134.000        0.0   \n",
       "787       0.00       9.83       0.00       0.00      0.000        0.0   \n",
       "241       0.00       0.00       1.00       0.00      0.206        0.0   \n",
       "626       0.00       0.00       0.00       0.00      0.000        0.0   \n",
       "494       0.00       0.00       0.00       0.74      0.160        0.0   \n",
       "653       0.00       0.00       0.00       0.00      0.000        0.0   \n",
       "165       0.00       0.00       0.06       0.00     92.000        0.0   \n",
       "701       0.00       0.00       0.00       0.00      0.000        0.0   \n",
       "234       0.17       0.00       0.17       0.00      0.030        0.0   \n",
       "434       1.28       0.00       0.00       0.00      0.000        0.0   \n",
       "\n",
       "     feature_6  feature_7  feature_8  feature_9   ...    feature_50  \\\n",
       "777       0.00       0.00       0.00        0.0   ...         0.000   \n",
       "704       1.28       0.64       0.00        0.0   ...         0.000   \n",
       "143       0.00       0.30       0.15        0.0   ...        57.000   \n",
       "564       0.00       3.57       0.00        0.0   ...         0.000   \n",
       "283       0.53       0.73       0.53        0.0   ...        23.000   \n",
       "73        1.92       1.81       0.45        0.0   ...        57.000   \n",
       "787       0.00       0.00       0.00        0.0   ...         0.000   \n",
       "241       1.72       0.57       0.00        0.0   ...        64.000   \n",
       "626       0.00       0.00       2.07        0.0   ...         0.144   \n",
       "494       0.24       0.00       0.24        0.0   ...         0.000   \n",
       "653       0.00       0.00       0.00        0.0   ...         0.000   \n",
       "165       0.61       0.75       0.00        0.0   ...        57.000   \n",
       "701       0.00       0.00       0.00        0.0   ...         0.000   \n",
       "234       0.00       0.00       0.17        0.0   ...         0.216   \n",
       "434       1.28       0.00       0.00        0.0   ...         0.398   \n",
       "\n",
       "     feature_51  feature_52  feature_53  feature_54  feature_55  feature_56  \\\n",
       "777        0.00        0.00   -0.815224           3        0.00         0.0   \n",
       "704        0.64        0.00    4.185061           8        0.00         0.0   \n",
       "143        0.00        0.00  -13.913914          84        0.00         0.0   \n",
       "564        1.78        0.00   14.600132          14        0.00         0.0   \n",
       "283        0.00        0.00    2.261751         272        0.00         0.0   \n",
       "73         0.00        0.00   -2.953061          94        0.00         0.0   \n",
       "787        0.00        0.00    0.275399          43        0.00         0.0   \n",
       "241        0.00        0.00  -12.373567          10        0.00         0.0   \n",
       "626        0.00        0.00   24.358820          11        0.00         0.0   \n",
       "494        0.49        0.00    0.805366         235        0.00         0.0   \n",
       "653        0.00        0.00   10.507841           3        0.00         0.0   \n",
       "165        0.00        0.00   -1.628071         104        0.00         0.0   \n",
       "701        3.50        0.00    6.009550          11        0.00         0.0   \n",
       "234        3.37        0.00    3.195651          85        0.17         0.0   \n",
       "434        2.56        1.28   18.426722          11        0.00         0.0   \n",
       "\n",
       "     feature_57  feature_58  target  \n",
       "777        0.00        0.00       0  \n",
       "704        2.56        0.00       0  \n",
       "143        0.61        1.23       1  \n",
       "564        0.00        0.00       0  \n",
       "283        1.12        0.26       1  \n",
       "73         0.45        0.22       1  \n",
       "787        0.00        0.00       0  \n",
       "241        0.14        0.07       1  \n",
       "626        0.00        0.00       0  \n",
       "494        0.49        0.00       0  \n",
       "653        0.00        0.00       0  \n",
       "165        0.00        0.00       1  \n",
       "701        0.00        0.00       0  \n",
       "234        0.17        0.00       1  \n",
       "434        0.00        0.00       0  \n",
       "\n",
       "[15 rows x 60 columns]"
      ]
     },
     "execution_count": 2,
     "metadata": {},
     "output_type": "execute_result"
    }
   ],
   "source": [
    "Train = pd.read_csv(\"d:/ML_Task/P4_training.csv\",  sep=';') # Give path to your data set\n",
    "Test = pd.read_csv(\"d:/ML_Task/P4_test.csv\",  sep=';')\n",
    "\n",
    "print(\"Train data shape :\", Train.shape)\n",
    "print(\"Test data shape :\", Test.shape)\n",
    "\n",
    "Train.sample(15)"
   ]
  },
  {
   "cell_type": "markdown",
   "metadata": {},
   "source": [
    "### Observations\n",
    "\n",
    " - 59 features\n",
    " - Data looks clean \n",
    " - Numerical values\n",
    " - Binary classes in Output\n"
   ]
  },
  {
   "cell_type": "markdown",
   "metadata": {},
   "source": [
    " ### Examining Columns Type"
   ]
  },
  {
   "cell_type": "code",
   "execution_count": 3,
   "metadata": {},
   "outputs": [
    {
     "data": {
      "text/plain": [
       "float64    57\n",
       "int64       3\n",
       "dtype: int64"
      ]
     },
     "execution_count": 3,
     "metadata": {},
     "output_type": "execute_result"
    }
   ],
   "source": [
    "Train.dtypes.value_counts()\n"
   ]
  },
  {
   "cell_type": "markdown",
   "metadata": {},
   "source": [
    "Numerical Data, looks good"
   ]
  },
  {
   "cell_type": "markdown",
   "metadata": {},
   "source": [
    "### Checking for Null / Missing  Values"
   ]
  },
  {
   "cell_type": "code",
   "execution_count": 4,
   "metadata": {},
   "outputs": [
    {
     "data": {
      "text/html": [
       "<div>\n",
       "<style scoped>\n",
       "    .dataframe tbody tr th:only-of-type {\n",
       "        vertical-align: middle;\n",
       "    }\n",
       "\n",
       "    .dataframe tbody tr th {\n",
       "        vertical-align: top;\n",
       "    }\n",
       "\n",
       "    .dataframe thead th {\n",
       "        text-align: right;\n",
       "    }\n",
       "</style>\n",
       "<table border=\"1\" class=\"dataframe\">\n",
       "  <thead>\n",
       "    <tr style=\"text-align: right;\">\n",
       "      <th></th>\n",
       "      <th>Total</th>\n",
       "      <th>Percent</th>\n",
       "    </tr>\n",
       "  </thead>\n",
       "  <tbody>\n",
       "    <tr>\n",
       "      <th>target</th>\n",
       "      <td>0</td>\n",
       "      <td>0.0</td>\n",
       "    </tr>\n",
       "    <tr>\n",
       "      <th>feature_58</th>\n",
       "      <td>0</td>\n",
       "      <td>0.0</td>\n",
       "    </tr>\n",
       "    <tr>\n",
       "      <th>feature_27</th>\n",
       "      <td>0</td>\n",
       "      <td>0.0</td>\n",
       "    </tr>\n",
       "    <tr>\n",
       "      <th>feature_26</th>\n",
       "      <td>0</td>\n",
       "      <td>0.0</td>\n",
       "    </tr>\n",
       "    <tr>\n",
       "      <th>feature_25</th>\n",
       "      <td>0</td>\n",
       "      <td>0.0</td>\n",
       "    </tr>\n",
       "  </tbody>\n",
       "</table>\n",
       "</div>"
      ],
      "text/plain": [
       "            Total  Percent\n",
       "target          0      0.0\n",
       "feature_58      0      0.0\n",
       "feature_27      0      0.0\n",
       "feature_26      0      0.0\n",
       "feature_25      0      0.0"
      ]
     },
     "execution_count": 4,
     "metadata": {},
     "output_type": "execute_result"
    }
   ],
   "source": [
    "total = Train.isnull().sum().sort_values(ascending=False)\n",
    "percent = (Train.isnull().sum()/Train.isnull().count()).sort_values(ascending=False)\n",
    "missing_data = pd.concat([total, percent], axis=1, keys=['Total', 'Percent'])\n",
    "missing_data.head(5)"
   ]
  },
  {
   "cell_type": "markdown",
   "metadata": {},
   "source": [
    "No missing or null value "
   ]
  },
  {
   "cell_type": "markdown",
   "metadata": {},
   "source": [
    "### Exploring Data"
   ]
  },
  {
   "cell_type": "code",
   "execution_count": 5,
   "metadata": {},
   "outputs": [
    {
     "data": {
      "text/html": [
       "<div>\n",
       "<style scoped>\n",
       "    .dataframe tbody tr th:only-of-type {\n",
       "        vertical-align: middle;\n",
       "    }\n",
       "\n",
       "    .dataframe tbody tr th {\n",
       "        vertical-align: top;\n",
       "    }\n",
       "\n",
       "    .dataframe thead th {\n",
       "        text-align: right;\n",
       "    }\n",
       "</style>\n",
       "<table border=\"1\" class=\"dataframe\">\n",
       "  <thead>\n",
       "    <tr style=\"text-align: right;\">\n",
       "      <th></th>\n",
       "      <th>feature_0</th>\n",
       "      <th>feature_1</th>\n",
       "      <th>feature_2</th>\n",
       "      <th>feature_3</th>\n",
       "      <th>feature_4</th>\n",
       "      <th>feature_5</th>\n",
       "      <th>feature_6</th>\n",
       "      <th>feature_7</th>\n",
       "      <th>feature_8</th>\n",
       "      <th>feature_9</th>\n",
       "      <th>...</th>\n",
       "      <th>feature_50</th>\n",
       "      <th>feature_51</th>\n",
       "      <th>feature_52</th>\n",
       "      <th>feature_53</th>\n",
       "      <th>feature_54</th>\n",
       "      <th>feature_55</th>\n",
       "      <th>feature_56</th>\n",
       "      <th>feature_57</th>\n",
       "      <th>feature_58</th>\n",
       "      <th>target</th>\n",
       "    </tr>\n",
       "  </thead>\n",
       "  <tbody>\n",
       "    <tr>\n",
       "      <th>count</th>\n",
       "      <td>795.000000</td>\n",
       "      <td>795.000000</td>\n",
       "      <td>795.000000</td>\n",
       "      <td>795.00000</td>\n",
       "      <td>795.000000</td>\n",
       "      <td>795.000000</td>\n",
       "      <td>795.000000</td>\n",
       "      <td>795.000000</td>\n",
       "      <td>795.000000</td>\n",
       "      <td>795.000000</td>\n",
       "      <td>...</td>\n",
       "      <td>795.000000</td>\n",
       "      <td>795.000000</td>\n",
       "      <td>795.000000</td>\n",
       "      <td>795.000000</td>\n",
       "      <td>795.000000</td>\n",
       "      <td>795.000000</td>\n",
       "      <td>795.000000</td>\n",
       "      <td>795.000000</td>\n",
       "      <td>795.000000</td>\n",
       "      <td>795.000000</td>\n",
       "    </tr>\n",
       "    <tr>\n",
       "      <th>mean</th>\n",
       "      <td>0.125459</td>\n",
       "      <td>0.179610</td>\n",
       "      <td>0.104352</td>\n",
       "      <td>0.15244</td>\n",
       "      <td>38.814557</td>\n",
       "      <td>0.019522</td>\n",
       "      <td>0.305333</td>\n",
       "      <td>0.571044</td>\n",
       "      <td>0.119132</td>\n",
       "      <td>0.040025</td>\n",
       "      <td>...</td>\n",
       "      <td>79.011787</td>\n",
       "      <td>0.661698</td>\n",
       "      <td>0.110855</td>\n",
       "      <td>2.812477</td>\n",
       "      <td>56.644025</td>\n",
       "      <td>0.087119</td>\n",
       "      <td>0.002704</td>\n",
       "      <td>0.223723</td>\n",
       "      <td>0.104377</td>\n",
       "      <td>0.377358</td>\n",
       "    </tr>\n",
       "    <tr>\n",
       "      <th>std</th>\n",
       "      <td>0.477084</td>\n",
       "      <td>1.303428</td>\n",
       "      <td>0.344301</td>\n",
       "      <td>0.45689</td>\n",
       "      <td>119.269707</td>\n",
       "      <td>0.292285</td>\n",
       "      <td>0.568487</td>\n",
       "      <td>0.861071</td>\n",
       "      <td>0.427586</td>\n",
       "      <td>0.332174</td>\n",
       "      <td>...</td>\n",
       "      <td>145.803109</td>\n",
       "      <td>1.662072</td>\n",
       "      <td>0.412888</td>\n",
       "      <td>11.746534</td>\n",
       "      <td>136.849686</td>\n",
       "      <td>0.487882</td>\n",
       "      <td>0.035248</td>\n",
       "      <td>0.478969</td>\n",
       "      <td>0.470212</td>\n",
       "      <td>0.485031</td>\n",
       "    </tr>\n",
       "    <tr>\n",
       "      <th>min</th>\n",
       "      <td>0.000000</td>\n",
       "      <td>0.000000</td>\n",
       "      <td>0.000000</td>\n",
       "      <td>0.00000</td>\n",
       "      <td>0.000000</td>\n",
       "      <td>0.000000</td>\n",
       "      <td>0.000000</td>\n",
       "      <td>0.000000</td>\n",
       "      <td>0.000000</td>\n",
       "      <td>0.000000</td>\n",
       "      <td>...</td>\n",
       "      <td>0.000000</td>\n",
       "      <td>0.000000</td>\n",
       "      <td>0.000000</td>\n",
       "      <td>-30.766937</td>\n",
       "      <td>1.000000</td>\n",
       "      <td>0.000000</td>\n",
       "      <td>0.000000</td>\n",
       "      <td>0.000000</td>\n",
       "      <td>0.000000</td>\n",
       "      <td>0.000000</td>\n",
       "    </tr>\n",
       "    <tr>\n",
       "      <th>25%</th>\n",
       "      <td>0.000000</td>\n",
       "      <td>0.000000</td>\n",
       "      <td>0.000000</td>\n",
       "      <td>0.00000</td>\n",
       "      <td>0.000000</td>\n",
       "      <td>0.000000</td>\n",
       "      <td>0.000000</td>\n",
       "      <td>0.000000</td>\n",
       "      <td>0.000000</td>\n",
       "      <td>0.000000</td>\n",
       "      <td>...</td>\n",
       "      <td>0.000000</td>\n",
       "      <td>0.000000</td>\n",
       "      <td>0.000000</td>\n",
       "      <td>-4.768467</td>\n",
       "      <td>7.000000</td>\n",
       "      <td>0.000000</td>\n",
       "      <td>0.000000</td>\n",
       "      <td>0.000000</td>\n",
       "      <td>0.000000</td>\n",
       "      <td>0.000000</td>\n",
       "    </tr>\n",
       "    <tr>\n",
       "      <th>50%</th>\n",
       "      <td>0.000000</td>\n",
       "      <td>0.000000</td>\n",
       "      <td>0.000000</td>\n",
       "      <td>0.00000</td>\n",
       "      <td>0.000000</td>\n",
       "      <td>0.000000</td>\n",
       "      <td>0.000000</td>\n",
       "      <td>0.240000</td>\n",
       "      <td>0.000000</td>\n",
       "      <td>0.000000</td>\n",
       "      <td>...</td>\n",
       "      <td>0.112000</td>\n",
       "      <td>0.000000</td>\n",
       "      <td>0.000000</td>\n",
       "      <td>2.433046</td>\n",
       "      <td>15.000000</td>\n",
       "      <td>0.000000</td>\n",
       "      <td>0.000000</td>\n",
       "      <td>0.000000</td>\n",
       "      <td>0.000000</td>\n",
       "      <td>0.000000</td>\n",
       "    </tr>\n",
       "    <tr>\n",
       "      <th>75%</th>\n",
       "      <td>0.000000</td>\n",
       "      <td>0.000000</td>\n",
       "      <td>0.000000</td>\n",
       "      <td>0.00000</td>\n",
       "      <td>0.118000</td>\n",
       "      <td>0.000000</td>\n",
       "      <td>0.420000</td>\n",
       "      <td>0.815000</td>\n",
       "      <td>0.000000</td>\n",
       "      <td>0.000000</td>\n",
       "      <td>...</td>\n",
       "      <td>102.000000</td>\n",
       "      <td>0.395000</td>\n",
       "      <td>0.000000</td>\n",
       "      <td>10.527107</td>\n",
       "      <td>43.500000</td>\n",
       "      <td>0.000000</td>\n",
       "      <td>0.000000</td>\n",
       "      <td>0.230000</td>\n",
       "      <td>0.000000</td>\n",
       "      <td>1.000000</td>\n",
       "    </tr>\n",
       "    <tr>\n",
       "      <th>max</th>\n",
       "      <td>4.760000</td>\n",
       "      <td>12.800000</td>\n",
       "      <td>4.760000</td>\n",
       "      <td>4.54000</td>\n",
       "      <td>997.000000</td>\n",
       "      <td>7.400000</td>\n",
       "      <td>4.760000</td>\n",
       "      <td>5.880000</td>\n",
       "      <td>6.060000</td>\n",
       "      <td>7.140000</td>\n",
       "      <td>...</td>\n",
       "      <td>868.000000</td>\n",
       "      <td>15.380000</td>\n",
       "      <td>4.760000</td>\n",
       "      <td>47.691734</td>\n",
       "      <td>1325.000000</td>\n",
       "      <td>9.750000</td>\n",
       "      <td>0.740000</td>\n",
       "      <td>4.090000</td>\n",
       "      <td>9.090000</td>\n",
       "      <td>1.000000</td>\n",
       "    </tr>\n",
       "  </tbody>\n",
       "</table>\n",
       "<p>8 rows × 60 columns</p>\n",
       "</div>"
      ],
      "text/plain": [
       "        feature_0   feature_1   feature_2  feature_3   feature_4   feature_5  \\\n",
       "count  795.000000  795.000000  795.000000  795.00000  795.000000  795.000000   \n",
       "mean     0.125459    0.179610    0.104352    0.15244   38.814557    0.019522   \n",
       "std      0.477084    1.303428    0.344301    0.45689  119.269707    0.292285   \n",
       "min      0.000000    0.000000    0.000000    0.00000    0.000000    0.000000   \n",
       "25%      0.000000    0.000000    0.000000    0.00000    0.000000    0.000000   \n",
       "50%      0.000000    0.000000    0.000000    0.00000    0.000000    0.000000   \n",
       "75%      0.000000    0.000000    0.000000    0.00000    0.118000    0.000000   \n",
       "max      4.760000   12.800000    4.760000    4.54000  997.000000    7.400000   \n",
       "\n",
       "        feature_6   feature_7   feature_8   feature_9     ...      feature_50  \\\n",
       "count  795.000000  795.000000  795.000000  795.000000     ...      795.000000   \n",
       "mean     0.305333    0.571044    0.119132    0.040025     ...       79.011787   \n",
       "std      0.568487    0.861071    0.427586    0.332174     ...      145.803109   \n",
       "min      0.000000    0.000000    0.000000    0.000000     ...        0.000000   \n",
       "25%      0.000000    0.000000    0.000000    0.000000     ...        0.000000   \n",
       "50%      0.000000    0.240000    0.000000    0.000000     ...        0.112000   \n",
       "75%      0.420000    0.815000    0.000000    0.000000     ...      102.000000   \n",
       "max      4.760000    5.880000    6.060000    7.140000     ...      868.000000   \n",
       "\n",
       "       feature_51  feature_52  feature_53   feature_54  feature_55  \\\n",
       "count  795.000000  795.000000  795.000000   795.000000  795.000000   \n",
       "mean     0.661698    0.110855    2.812477    56.644025    0.087119   \n",
       "std      1.662072    0.412888   11.746534   136.849686    0.487882   \n",
       "min      0.000000    0.000000  -30.766937     1.000000    0.000000   \n",
       "25%      0.000000    0.000000   -4.768467     7.000000    0.000000   \n",
       "50%      0.000000    0.000000    2.433046    15.000000    0.000000   \n",
       "75%      0.395000    0.000000   10.527107    43.500000    0.000000   \n",
       "max     15.380000    4.760000   47.691734  1325.000000    9.750000   \n",
       "\n",
       "       feature_56  feature_57  feature_58      target  \n",
       "count  795.000000  795.000000  795.000000  795.000000  \n",
       "mean     0.002704    0.223723    0.104377    0.377358  \n",
       "std      0.035248    0.478969    0.470212    0.485031  \n",
       "min      0.000000    0.000000    0.000000    0.000000  \n",
       "25%      0.000000    0.000000    0.000000    0.000000  \n",
       "50%      0.000000    0.000000    0.000000    0.000000  \n",
       "75%      0.000000    0.230000    0.000000    1.000000  \n",
       "max      0.740000    4.090000    9.090000    1.000000  \n",
       "\n",
       "[8 rows x 60 columns]"
      ]
     },
     "execution_count": 5,
     "metadata": {},
     "output_type": "execute_result"
    }
   ],
   "source": [
    "Train.describe()"
   ]
  },
  {
   "cell_type": "markdown",
   "metadata": {},
   "source": [
    "- All features looks good\n",
    "- Varied range of values for different features\n",
    "- Data Scaling required"
   ]
  },
  {
   "cell_type": "markdown",
   "metadata": {},
   "source": [
    "### Examine the Distribution of the Target label\n"
   ]
  },
  {
   "cell_type": "code",
   "execution_count": 6,
   "metadata": {},
   "outputs": [
    {
     "data": {
      "text/plain": [
       "0    495\n",
       "1    300\n",
       "Name: target, dtype: int64"
      ]
     },
     "execution_count": 6,
     "metadata": {},
     "output_type": "execute_result"
    }
   ],
   "source": [
    "Train['target'].value_counts()\n"
   ]
  },
  {
   "cell_type": "code",
   "execution_count": 7,
   "metadata": {},
   "outputs": [
    {
     "data": {
      "text/plain": [
       "<matplotlib.axes._subplots.AxesSubplot at 0x1d84887c898>"
      ]
     },
     "execution_count": 7,
     "metadata": {},
     "output_type": "execute_result"
    },
    {
     "data": {
      "image/png": "[encoded data removed]",
      "text/plain": [
       "<Figure size 432x288 with 1 Axes>"
      ]
     },
     "metadata": {},
     "output_type": "display_data"
    }
   ],
   "source": [
    "sns.countplot(Train['target'] )\n"
   ]
  },
  {
   "cell_type": "markdown",
   "metadata": {},
   "source": [
    "Tagret output classes are unbalanced"
   ]
  },
  {
   "cell_type": "code",
   "execution_count": 8,
   "metadata": {},
   "outputs": [
    {
     "name": "stdout",
     "output_type": "stream",
     "text": [
      "Most Positive Correlations:\n",
      " feature_38    0.249239\n",
      "feature_58    0.254503\n",
      "feature_21    0.270120\n",
      "feature_6     0.296073\n",
      "feature_48    0.302771\n",
      "feature_31    0.346781\n",
      "feature_13    0.349462\n",
      "feature_44    0.353551\n",
      "feature_33    0.356435\n",
      "feature_54    0.357321\n",
      "feature_4     0.362389\n",
      "feature_15    0.364226\n",
      "feature_2     0.365430\n",
      "feature_18    0.366951\n",
      "target        1.000000\n",
      "Name: target, dtype: float64\n",
      "\n",
      "Most Negative Correlations:\n",
      " feature_51   -0.299270\n",
      "feature_32   -0.260327\n",
      "feature_3    -0.226490\n",
      "feature_26   -0.201569\n",
      "feature_0    -0.197939\n",
      "feature_23   -0.188981\n",
      "feature_36   -0.184462\n",
      "feature_52   -0.153743\n",
      "feature_29   -0.152982\n",
      "feature_40   -0.150377\n",
      "feature_46   -0.144150\n",
      "feature_42   -0.139719\n",
      "feature_10   -0.133449\n",
      "feature_55   -0.127978\n",
      "feature_14   -0.126383\n",
      "Name: target, dtype: float64\n"
     ]
    }
   ],
   "source": [
    "# Find correlations with the target and sort\n",
    "correlations = Train.corr()['target'].sort_values()\n",
    "\n",
    "# Display correlations\n",
    "print('Most Positive Correlations:\\n', correlations.tail(15))\n",
    "print('\\nMost Negative Correlations:\\n', correlations.head(15))"
   ]
  },
  {
   "cell_type": "markdown",
   "metadata": {},
   "source": [
    "We can see that feature_18, feature_2 and feature_15 are most positively correlated with target and feature_51, feature_32 and feature_3 is most negatively correlated with target"
   ]
  },
  {
   "cell_type": "markdown",
   "metadata": {},
   "source": [
    "## Features Engineering\n",
    "### Creating Polynomial Features"
   ]
  },
  {
   "cell_type": "code",
   "execution_count": 9,
   "metadata": {},
   "outputs": [
    {
     "name": "stdout",
     "output_type": "stream",
     "text": [
      "Train data shape : (795, 72)\n",
      "Test data shape : (91, 71)\n"
     ]
    }
   ],
   "source": [
    "# Creating a dataframe for Polynomial features of seconf and third degree\n",
    "polyfeatures = pd.DataFrame()\n",
    "\n",
    "polyCols= [ \"feature_18\", \"feature_2\", \"feature_15\", \"feature_51\", \"feature_32\",\"feature_3\"]\n",
    "\n",
    "for cols in polyCols:\n",
    "    Train[cols+\"_sqr\"] = Train[cols]**2\n",
    "    Train[cols+\"_cube\"] = Train[cols]**3\n",
    "    Test[cols+\"_sqr\"] = Test[cols]**2\n",
    "    Test[cols+\"_cube\"] = Test[cols]**3\n",
    "\n",
    "# Checking shape of newly created dataframes. Test should have 1less feature then trainas it doesnt have targete labels.\n",
    "\n",
    "print(\"Train data shape :\", Train.shape)\n",
    "print(\"Test data shape :\", Test.shape)"
   ]
  },
  {
   "cell_type": "markdown",
   "metadata": {},
   "source": [
    "### Features Selection"
   ]
  },
  {
   "cell_type": "code",
   "execution_count": 10,
   "metadata": {},
   "outputs": [],
   "source": [
    "X = Train.drop([\"target\"], axis=1)\n",
    "y = Train[\"target\"]"
   ]
  },
  {
   "cell_type": "code",
   "execution_count": 11,
   "metadata": {},
   "outputs": [],
   "source": [
    "# Initialize an empty array to hold feature importances\n",
    "feature_importances = np.zeros(X.shape[1])\n",
    "\n",
    "import lightgbm as lgb\n",
    "\n",
    "# Create the model to evaluate feature importances\n",
    "model = lgb.LGBMClassifier(objective='binary', boosting_type = 'goss', n_estimators = 10000, class_weight = 'balanced')"
   ]
  },
  {
   "cell_type": "code",
   "execution_count": 12,
   "metadata": {},
   "outputs": [
    {
     "name": "stdout",
     "output_type": "stream",
     "text": [
      "Training until validation scores don't improve for 100 rounds\n",
      "Early stopping, best iteration is:\n",
      "[56]\tvalid_0's auc: 0.959774\tvalid_0's binary_logloss: 0.242861\n",
      "Training until validation scores don't improve for 100 rounds\n",
      "Early stopping, best iteration is:\n",
      "[72]\tvalid_0's auc: 0.969926\tvalid_0's binary_logloss: 0.207773\n"
     ]
    }
   ],
   "source": [
    "# Fit the model twice to avoid overfitting\n",
    "for i in range(2):\n",
    "    \n",
    "    # Split into training and validation set\n",
    "    train_features, valid_features, train_y, valid_y = train_test_split(X, y, test_size = 0.25, random_state = i)\n",
    "    \n",
    "    # Train using early stopping\n",
    "    model.fit(train_features, train_y, early_stopping_rounds=100, eval_set = [(valid_features, valid_y)], \n",
    "              eval_metric = 'auc', verbose = 200)\n",
    "    \n",
    "    # Record the feature importances\n",
    "    feature_importances += model.feature_importances_"
   ]
  },
  {
   "cell_type": "code",
   "execution_count": 13,
   "metadata": {},
   "outputs": [
    {
     "data": {
      "text/html": [
       "<div>\n",
       "<style scoped>\n",
       "    .dataframe tbody tr th:only-of-type {\n",
       "        vertical-align: middle;\n",
       "    }\n",
       "\n",
       "    .dataframe tbody tr th {\n",
       "        vertical-align: top;\n",
       "    }\n",
       "\n",
       "    .dataframe thead th {\n",
       "        text-align: right;\n",
       "    }\n",
       "</style>\n",
       "<table border=\"1\" class=\"dataframe\">\n",
       "  <thead>\n",
       "    <tr style=\"text-align: right;\">\n",
       "      <th></th>\n",
       "      <th>feature</th>\n",
       "      <th>importance</th>\n",
       "    </tr>\n",
       "  </thead>\n",
       "  <tbody>\n",
       "    <tr>\n",
       "      <th>27</th>\n",
       "      <td>feature_27</td>\n",
       "      <td>46.0</td>\n",
       "    </tr>\n",
       "    <tr>\n",
       "      <th>18</th>\n",
       "      <td>feature_18</td>\n",
       "      <td>38.0</td>\n",
       "    </tr>\n",
       "    <tr>\n",
       "      <th>15</th>\n",
       "      <td>feature_15</td>\n",
       "      <td>37.5</td>\n",
       "    </tr>\n",
       "    <tr>\n",
       "      <th>53</th>\n",
       "      <td>feature_53</td>\n",
       "      <td>37.0</td>\n",
       "    </tr>\n",
       "    <tr>\n",
       "      <th>33</th>\n",
       "      <td>feature_33</td>\n",
       "      <td>35.5</td>\n",
       "    </tr>\n",
       "  </tbody>\n",
       "</table>\n",
       "</div>"
      ],
      "text/plain": [
       "       feature  importance\n",
       "27  feature_27        46.0\n",
       "18  feature_18        38.0\n",
       "15  feature_15        37.5\n",
       "53  feature_53        37.0\n",
       "33  feature_33        35.5"
      ]
     },
     "execution_count": 13,
     "metadata": {},
     "output_type": "execute_result"
    }
   ],
   "source": [
    "# Find high importance features\n",
    "\n",
    "feature_importances = feature_importances / 2\n",
    "feature_importances = pd.DataFrame({'feature': list(X.columns), 'importance': feature_importances}).sort_values('importance', ascending = False)\n",
    "\n",
    "feature_importances.head()"
   ]
  },
  {
   "cell_type": "code",
   "execution_count": 14,
   "metadata": {},
   "outputs": [
    {
     "name": "stdout",
     "output_type": "stream",
     "text": [
      "There are 34 features with 0.0 importance\n"
     ]
    },
    {
     "data": {
      "text/html": [
       "<div>\n",
       "<style scoped>\n",
       "    .dataframe tbody tr th:only-of-type {\n",
       "        vertical-align: middle;\n",
       "    }\n",
       "\n",
       "    .dataframe tbody tr th {\n",
       "        vertical-align: top;\n",
       "    }\n",
       "\n",
       "    .dataframe thead th {\n",
       "        text-align: right;\n",
       "    }\n",
       "</style>\n",
       "<table border=\"1\" class=\"dataframe\">\n",
       "  <thead>\n",
       "    <tr style=\"text-align: right;\">\n",
       "      <th></th>\n",
       "      <th>feature</th>\n",
       "      <th>importance</th>\n",
       "    </tr>\n",
       "  </thead>\n",
       "  <tbody>\n",
       "    <tr>\n",
       "      <th>37</th>\n",
       "      <td>feature_37</td>\n",
       "      <td>0.0</td>\n",
       "    </tr>\n",
       "    <tr>\n",
       "      <th>39</th>\n",
       "      <td>feature_39</td>\n",
       "      <td>0.0</td>\n",
       "    </tr>\n",
       "    <tr>\n",
       "      <th>40</th>\n",
       "      <td>feature_40</td>\n",
       "      <td>0.0</td>\n",
       "    </tr>\n",
       "    <tr>\n",
       "      <th>41</th>\n",
       "      <td>feature_41</td>\n",
       "      <td>0.0</td>\n",
       "    </tr>\n",
       "    <tr>\n",
       "      <th>70</th>\n",
       "      <td>feature_3_cube</td>\n",
       "      <td>0.0</td>\n",
       "    </tr>\n",
       "  </tbody>\n",
       "</table>\n",
       "</div>"
      ],
      "text/plain": [
       "           feature  importance\n",
       "37      feature_37         0.0\n",
       "39      feature_39         0.0\n",
       "40      feature_40         0.0\n",
       "41      feature_41         0.0\n",
       "70  feature_3_cube         0.0"
      ]
     },
     "execution_count": 14,
     "metadata": {},
     "output_type": "execute_result"
    }
   ],
   "source": [
    "# Find the features with zero importance\n",
    "zero_features = list(feature_importances[feature_importances['importance'] == 0.0]['feature'])\n",
    "print('There are %d features with 0.0 importance' % len(zero_features))\n",
    "feature_importances.tail()"
   ]
  },
  {
   "cell_type": "code",
   "execution_count": 15,
   "metadata": {},
   "outputs": [
    {
     "name": "stdout",
     "output_type": "stream",
     "text": [
      "Training shape:  (795, 38)\n",
      "Testing shape:  (91, 37)\n"
     ]
    }
   ],
   "source": [
    "# Dropping the zero importance features\n",
    "\n",
    "Train = Train.drop(columns = zero_features)\n",
    "Test = Test.drop(columns = zero_features)\n",
    "\n",
    "\n",
    "print('Training shape: ', Train.shape)\n",
    "print('Testing shape: ', Test.shape)"
   ]
  },
  {
   "cell_type": "markdown",
   "metadata": {},
   "source": [
    "While dropping the featues all aour engineered polynomial fetures were also dropped hence the feautre engineering step was not really useful"
   ]
  },
  {
   "cell_type": "markdown",
   "metadata": {},
   "source": [
    "##  Building Classifier Models"
   ]
  },
  {
   "cell_type": "code",
   "execution_count": 16,
   "metadata": {},
   "outputs": [
    {
     "name": "stdout",
     "output_type": "stream",
     "text": [
      "Training shape:  (795, 38)\n",
      "Testing shape:  (91, 37)\n"
     ]
    }
   ],
   "source": [
    "# dropping the labeled targets from the training data.\n",
    "X = Train.drop([\"target\"], axis=1)\n",
    "y = Train[\"target\"]\n",
    "\n",
    "# checking shape of data\n",
    "print('Training shape: ', Train.shape)\n",
    "print('Testing shape: ', Test.shape)\n",
    "\n",
    "#Spiliting the data into train and validation set to evaluate the performance of our models.\n",
    "X_train,X_valid,y_train,y_valid = train_test_split(X, y, test_size=0.3, random_state=7)"
   ]
  },
  {
   "cell_type": "markdown",
   "metadata": {},
   "source": [
    "### Scaling the features"
   ]
  },
  {
   "cell_type": "code",
   "execution_count": 17,
   "metadata": {},
   "outputs": [],
   "source": [
    "from sklearn.preprocessing import StandardScaler\n",
    "scaler = StandardScaler()\n",
    "X_train_scaled = scaler.fit_transform(X_train)\n",
    "X_valid_scaled = scaler.transform(X_valid)\n",
    "\n",
    "#Applying feature scaling to Test data as well for prediction in future\n",
    "Test_Scaled = scaler.transform(Test)"
   ]
  },
  {
   "cell_type": "markdown",
   "metadata": {},
   "source": [
    "## XGBoost Classifier"
   ]
  },
  {
   "cell_type": "code",
   "execution_count": 18,
   "metadata": {},
   "outputs": [
    {
     "data": {
      "text/plain": [
       "XGBClassifier(base_score=0.5, booster='gbtree', colsample_bylevel=1,\n",
       "              colsample_bynode=1, colsample_bytree=1, gamma=0,\n",
       "              learning_rate=0.1, max_delta_step=0, max_depth=2,\n",
       "              min_child_weight=1, missing=None, n_estimators=200, n_jobs=1,\n",
       "              nthread=None, objective='binary:logistic', random_state=0,\n",
       "              reg_alpha=0, reg_lambda=1, scale_pos_weight=1, seed=None,\n",
       "              silent=None, subsample=1, verbosity=1)"
      ]
     },
     "execution_count": 18,
     "metadata": {},
     "output_type": "execute_result"
    }
   ],
   "source": [
    "# XGBoost Classifier\n",
    "from xgboost import XGBClassifier\n",
    "\n",
    "#Definig the model\n",
    "model=XGBClassifier(max_depth=2, n_estimators=200,learning_rate=0.1)\n",
    "\n",
    "#fitting the model\n",
    "model.fit(X_train_scaled,y_train)"
   ]
  },
  {
   "cell_type": "code",
   "execution_count": 19,
   "metadata": {},
   "outputs": [
    {
     "name": "stdout",
     "output_type": "stream",
     "text": [
      "Accuray of XGBoost classifier is  96.23430962343096 %\n"
     ]
    }
   ],
   "source": [
    "# making predictions\n",
    "y_pred=model.predict(X_valid_scaled)\n",
    "print(\"Accuray of XGBoost classifier is \",accuracy_score(y_valid, y_pred)*100,\"%\")"
   ]
  },
  {
   "cell_type": "markdown",
   "metadata": {},
   "source": [
    "## Performance Metrics and Analysis"
   ]
  },
  {
   "cell_type": "code",
   "execution_count": 20,
   "metadata": {},
   "outputs": [],
   "source": [
    "# Defining a function to plot ROC curve\n",
    "\n",
    "from sklearn import metrics\n",
    "def plotROC(target_test,test_preds):\n",
    "    fpr, tpr, threshold = metrics.roc_curve(target_test, test_preds)\n",
    "    roc_auc = metrics.auc(fpr, tpr)\n",
    "    plt.title('Receiver Operating Characteristic')\n",
    "    plt.plot(fpr, tpr, 'b', label = 'AUC = %0.2f' % roc_auc)\n",
    "    plt.legend(loc = 'lower right')\n",
    "    plt.plot([0, 1], [0, 1],'r--')\n",
    "    plt.ylabel('True Positive Rate')\n",
    "    plt.xlabel('False Positive Rate')\n",
    "    plt.gcf().savefig('roc.png')"
   ]
  },
  {
   "cell_type": "code",
   "execution_count": 21,
   "metadata": {},
   "outputs": [
    {
     "data": {
      "image/png": "[encoded data removed]",
      "text/plain": [
       "<Figure size 576x288 with 2 Axes>"
      ]
     },
     "metadata": {},
     "output_type": "display_data"
    }
   ],
   "source": [
    "# Confusion Matrix\n",
    "mat = confusion_matrix(y_valid, y_pred)\n",
    "\n",
    "plt.figure(figsize=(8,4)) # increase size of the confusion matrix\n",
    "sns.heatmap(mat.T, square=True, annot=True, fmt='d', cbar=True , \n",
    "            linewidth =0.5 , cmap=\"Blues\")\n",
    "plt.xlabel('True label')\n",
    "plt.ylabel('Predicted label');\n"
   ]
  },
  {
   "cell_type": "code",
   "execution_count": 22,
   "metadata": {},
   "outputs": [
    {
     "name": "stdout",
     "output_type": "stream",
     "text": [
      "Classification Report \n",
      "               precision    recall  f1-score   support\n",
      "\n",
      "           0       0.96      0.99      0.97       157\n",
      "           1       0.97      0.91      0.94        82\n",
      "\n",
      "    accuracy                           0.96       239\n",
      "   macro avg       0.97      0.95      0.96       239\n",
      "weighted avg       0.96      0.96      0.96       239\n",
      "\n"
     ]
    },
    {
     "data": {
      "image/png": "[encoded data removed]",
      "text/plain": [
       "<Figure size 432x288 with 1 Axes>"
      ]
     },
     "metadata": {},
     "output_type": "display_data"
    }
   ],
   "source": [
    "print(\"Classification Report \\n\",classification_report(y_valid, y_pred))\n",
    "plotROC(y_valid, y_pred)"
   ]
  },
  {
   "cell_type": "markdown",
   "metadata": {},
   "source": [
    "## SVM Classifier"
   ]
  },
  {
   "cell_type": "code",
   "execution_count": 23,
   "metadata": {},
   "outputs": [
    {
     "data": {
      "text/plain": [
       "SVC(C=1.0, cache_size=200, class_weight=None, coef0=0.0,\n",
       "    decision_function_shape='ovr', degree=3, gamma='auto_deprecated',\n",
       "    kernel='rbf', max_iter=-1, probability=False, random_state=None,\n",
       "    shrinking=True, tol=0.001, verbose=False)"
      ]
     },
     "execution_count": 23,
     "metadata": {},
     "output_type": "execute_result"
    }
   ],
   "source": [
    "from sklearn.svm import SVC  \n",
    "\n",
    "#Defining the model\n",
    "svclassifier = SVC(kernel='rbf')  # Using radial bias function kernel\n",
    "\n",
    "#fitting the model\n",
    "svclassifier.fit(X_train_scaled, y_train)"
   ]
  },
  {
   "cell_type": "code",
   "execution_count": 24,
   "metadata": {},
   "outputs": [
    {
     "name": "stdout",
     "output_type": "stream",
     "text": [
      "Accuracy of SVM classifier is  94.14225941422593 %\n"
     ]
    }
   ],
   "source": [
    "# predicting labels\n",
    "y_pred_SVM = svclassifier.predict(X_valid_scaled)  \n",
    "print(\"Accuracy of SVM classifier is \",accuracy_score(y_valid, y_pred_SVM)*100, \"%\")"
   ]
  },
  {
   "cell_type": "code",
   "execution_count": 25,
   "metadata": {},
   "outputs": [
    {
     "data": {
      "image/png": "[encoded data removed]",
      "text/plain": [
       "<Figure size 576x288 with 2 Axes>"
      ]
     },
     "metadata": {},
     "output_type": "display_data"
    }
   ],
   "source": [
    "# Confusion Matrix\n",
    "mat = confusion_matrix(y_valid, y_pred_SVM)\n",
    "\n",
    "plt.figure(figsize=(8,4)) # increase size of the confusion matrix\n",
    "sns.heatmap(mat.T, square=True, annot=True, fmt='d', cbar=True , \n",
    "            linewidth =0.5 , cmap=\"Blues\")\n",
    "plt.xlabel('True label')\n",
    "plt.ylabel('Predicted label');"
   ]
  },
  {
   "cell_type": "code",
   "execution_count": 26,
   "metadata": {},
   "outputs": [
    {
     "name": "stdout",
     "output_type": "stream",
     "text": [
      "Classification Report \n",
      "               precision    recall  f1-score   support\n",
      "\n",
      "           0       0.94      0.97      0.96       157\n",
      "           1       0.94      0.89      0.91        82\n",
      "\n",
      "    accuracy                           0.94       239\n",
      "   macro avg       0.94      0.93      0.93       239\n",
      "weighted avg       0.94      0.94      0.94       239\n",
      "\n"
     ]
    },
    {
     "data": {
      "image/png": "[encoded data removed]",
      "text/plain": [
       "<Figure size 432x288 with 1 Axes>"
      ]
     },
     "metadata": {},
     "output_type": "display_data"
    }
   ],
   "source": [
    "print(\"Classification Report \\n\",classification_report(y_valid, y_pred_SVM))\n",
    "plotROC(y_valid, y_pred_SVM)"
   ]
  },
  {
   "cell_type": "markdown",
   "metadata": {},
   "source": [
    "## Logistic Regression Classifier"
   ]
  },
  {
   "cell_type": "code",
   "execution_count": 27,
   "metadata": {},
   "outputs": [
    {
     "data": {
      "text/plain": [
       "LogisticRegression(C=1.0, class_weight=None, dual=False, fit_intercept=True,\n",
       "                   intercept_scaling=1, l1_ratio=None, max_iter=100,\n",
       "                   multi_class='warn', n_jobs=None, penalty='l2',\n",
       "                   random_state=None, solver='lbfgs', tol=0.0001, verbose=0,\n",
       "                   warm_start=False)"
      ]
     },
     "execution_count": 27,
     "metadata": {},
     "output_type": "execute_result"
    }
   ],
   "source": [
    "from sklearn.linear_model import LogisticRegression\n",
    "\n",
    "#Definig the model\n",
    "logreg = LogisticRegression(solver='lbfgs')\n",
    "\n",
    "#fitting the model\n",
    "logreg.fit(X_train_scaled, y_train)"
   ]
  },
  {
   "cell_type": "code",
   "execution_count": 28,
   "metadata": {},
   "outputs": [
    {
     "name": "stdout",
     "output_type": "stream",
     "text": [
      "Accuracy of logistic regression classifier on test set is  92.88702928870293 %\n"
     ]
    }
   ],
   "source": [
    "# predicting labels\n",
    "y_pred_logit = logreg.predict(X_valid_scaled)\n",
    "print(\"Accuracy of logistic regression classifier on test set is \", accuracy_score( y_valid, y_pred_logit)*100 ,\"%\")"
   ]
  },
  {
   "cell_type": "code",
   "execution_count": 29,
   "metadata": {},
   "outputs": [
    {
     "name": "stdout",
     "output_type": "stream",
     "text": [
      "Classification Report \n",
      "               precision    recall  f1-score   support\n",
      "\n",
      "           0       0.93      0.96      0.95       157\n",
      "           1       0.92      0.87      0.89        82\n",
      "\n",
      "    accuracy                           0.93       239\n",
      "   macro avg       0.93      0.91      0.92       239\n",
      "weighted avg       0.93      0.93      0.93       239\n",
      "\n"
     ]
    },
    {
     "data": {
      "image/png": "[encoded data removed]",
      "text/plain": [
       "<Figure size 432x288 with 1 Axes>"
      ]
     },
     "metadata": {},
     "output_type": "display_data"
    }
   ],
   "source": [
    "print(\"Classification Report \\n\",classification_report(y_valid, y_pred_logit))\n",
    "plotROC(y_valid, y_pred_logit)"
   ]
  },
  {
   "cell_type": "markdown",
   "metadata": {},
   "source": [
    "## Comparative analysis"
   ]
  },
  {
   "cell_type": "markdown",
   "metadata": {},
   "source": [
    "### Precision, Recall and F-Score\n",
    "\n",
    "#### Percision\n",
    "The precision is defined as\n",
    "$$ Precision = \\frac{TP}{TP+FP} $$\n",
    "\n",
    "it measures how \"precise\" our classifer is. Precision tells us how many of the items our classiger labeled correctly.\n",
    "\n",
    "The denominator of percision is sum of first row of confusion matrix.\n",
    "\n",
    "#### Recall\n",
    "The recall (also called true positive rate, hitrate or sensitivity) is defined as\n",
    "$$ Recall = \\frac{TP}{TP+FN} $$\n",
    "\n",
    "and measures how many of the \"relevant\" items we got. The term relevant refers to data points having the label 1.\n",
    "\n",
    "The denominator of recall is sum of first column of confusion matrix.\n",
    "\n",
    "#### F1-Score\n",
    "The F1 score is defined as\n",
    "$$ F1 = 2 * \\frac {Precision * Recall} {Precision+Recall} $$\n",
    "\n",
    "It is the harmonic mean of precision and recall."
   ]
  },
  {
   "cell_type": "markdown",
   "metadata": {},
   "source": [
    "|           |       Logistic Regression      |                    SVM                   |          XGBoost                |\n",
    "|:---------:|:------------------------------:|:----------------------------------------:|:-------------------------------:|\n",
    "|  Accuracy |              0.93              |                   0.94                   |               0.96              |\n",
    "| Precision |              0.92 (class 1)    |                   0.94  (class 1)        |               0.97 (class 1)    |\n",
    "|   Recall  |              0.87 (class 1)    |                   0.89  (class 1)        |               0.91 (class 1)    |\n",
    "|  F1-Score |              0.89 (class 1)    |                   0.91  (class 1)        |               0.94 (class 1)    |\n",
    "|    AUC    |              0.91              |                   0.93                   |               0.95              |\n"
   ]
  },
  {
   "cell_type": "markdown",
   "metadata": {},
   "source": [
    "## Selected Model\n",
    "\n",
    "Based on evaluation metrics we will choose XGBoost classifier  to predict the classes in test data as its performance is the best."
   ]
  },
  {
   "cell_type": "markdown",
   "metadata": {},
   "source": [
    "## Predecting target labels for Test data"
   ]
  },
  {
   "cell_type": "code",
   "execution_count": 30,
   "metadata": {},
   "outputs": [],
   "source": [
    "Test_pred = model.predict(Test_Scaled) # we have already scaled test data and build and train our model"
   ]
  },
  {
   "cell_type": "code",
   "execution_count": 31,
   "metadata": {},
   "outputs": [],
   "source": [
    "Test_pred = pd.DataFrame(Test_pred)\n",
    "\n",
    "# Saving predicticted values to a csv file\n",
    "Test_pred.to_csv(\"Test_Predicted_Labels.csv\", sep = \";\") \n",
    "\n"
   ]
  },
  {
   "cell_type": "markdown",
   "metadata": {},
   "source": [
    "# Q & As"
   ]
  },
  {
   "cell_type": "markdown",
   "metadata": {},
   "source": [
    "###  Why did you choose the model that you chose?\n",
    "\n",
    "The model(XGBoost - XGBClassifier) performed best among the different models tried. Its and ensembel model which uses boosting technique of classifying the labels using different classifier and data sample and using the majority vote to predict the final class labels. Hence its performance is better than the others. It also uses regularization hence reduce the chance of overfitting. Thats why I choose this model.\n",
    "\n",
    "###  Why did you choose the evaluation metric you chose?\n",
    "\n",
    "In machine learning there is no universal \"best\" model or \"best\" evaluation metric. There is the best model for your needs and use case. \n",
    "\n",
    "If you are searching for treasure (a scenario in which you have huge benefit from a true positive, not too high cost of a false positive) then recall is a good measure.\n",
    "\n",
    "If you are trying to decide whether to perform a complex medical procedure on patient (high cost of false positive, hopefully a low cost of false negative), precision is the measure you should use.\n",
    "\n",
    "Hence it changes from case to case depending upon domain and usage.\n",
    "\n",
    "Since our output classes are imbalanced then it will not be advisible to just use the accuracy (as simpy predicting the majority class will leads to high accuracy). So I looked into a mix of metrics F1 score, recall,  precision (for minority class), AUC and Accuracy as well to decide about the performance of the model. For me the model having better recall, precision, F1 score for minority class is the better performing one. \n",
    "\n",
    "There is no information about the domain or use case of data so specific metrics for the needs or goal of classifier could not be selected.\n",
    "\n",
    "### Do you think this task was reasonable as a test task?\n",
    "\n",
    "Yes, it was a resonable task but not a challeging one as the data was really clean with no missing values or anomalies. For any ML task data prepration and future extraction is the most challenging part. In real life problems data would not be that well structured and free from anomalies.\n",
    "\n",
    "\n",
    "### What problems did you face preparing a solution?\n",
    "As there were no proper lable for feautres I can not determine the purpose of classification. Hence an extensive EDA could not be performed. I can not employ any domain specific knowledge for future engineering. Fine tuning the hyper parameter of XGBoost classifier was a little challenging. \n",
    "\n",
    "\n"
   ]
  },
  {
   "cell_type": "code",
   "execution_count": null,
   "metadata": {},
   "outputs": [],
   "source": []
  }
 ],
 "metadata": {
  "kernelspec": {
   "display_name": "Python 3",
   "language": "python",
   "name": "python3"
  },
  "language_info": {
   "codemirror_mode": {
    "name": "ipython",
    "version": 3
   },
   "file_extension": ".py",
   "mimetype": "text/x-python",
   "name": "python",
   "nbconvert_exporter": "python",
   "pygments_lexer": "ipython3",
   "version": "3.6.5"
  }
 },
 "nbformat": 4,
 "nbformat_minor": 2
}
